{
 "cells": [
  {
   "cell_type": "code",
   "execution_count": 1,
   "metadata": {},
   "outputs": [],
   "source": [
    "import glob\n",
    "\n",
    "data_dir = 'data/'\n",
    "pics = glob.glob(data_dir + '*/*/*.jpg')"
   ]
  },
  {
   "cell_type": "code",
   "execution_count": 2,
   "metadata": {},
   "outputs": [],
   "source": [
    "from collections import namedtuple\n",
    "from PIL import Image\n",
    "import numpy as np\n",
    "import cv2\n",
    "\n",
    "Picture = namedtuple('Picture', ['category', 'camera', 'index', 'feature'])"
   ]
  },
  {
   "cell_type": "code",
   "execution_count": 3,
   "metadata": {},
   "outputs": [],
   "source": [
    "def filename_to_hist_feat(filename):\n",
    "    image = cv2.cvtColor(np.array(Image.open(filename)), cv2.COLOR_RGB2HSV)\n",
    "    feat = cv2.calcHist(images=[image], channels=[0, 1, 2], mask=None, histSize=[30, 32, 32], ranges=[0, 180, 0, 256, 0, 256]).reshape(-1)\n",
    "    names = filename.split('/')\n",
    "    return Picture(category=names[1], camera=names[2], index=names[3], feature=feat)"
   ]
  },
  {
   "cell_type": "code",
   "execution_count": 4,
   "metadata": {},
   "outputs": [
    {
     "name": "stdout",
     "output_type": "stream",
     "text": [
      "Calculate Features in 87.6553 seconds...\n"
     ]
    }
   ],
   "source": [
    "import concurrent.futures\n",
    "import time\n",
    "\n",
    "start = time.time()\n",
    "chunksize = 32\n",
    "ref_pics, query_pics = [], []\n",
    "with concurrent.futures.ProcessPoolExecutor(max_workers=10) as executor:\n",
    "    for filename, feat_pic in zip(pics, executor.map(filename_to_hist_feat, pics, chunksize=chunksize)):\n",
    "        if feat_pic.camera == 'Reference':\n",
    "            ref_pics.append(feat_pic)\n",
    "        else:\n",
    "            query_pics.append(feat_pic)\n",
    "\n",
    "feature_mat = np.array([pic.feature.reshape(-1) for pic in ref_pics])\n",
    "id2info = {idx:(pic.category, pic.index) for idx, pic in enumerate(ref_pics)}            \n",
    "\n",
    "print('Calculate Features in %.4f seconds...' % (time.time() - start))"
   ]
  },
  {
   "cell_type": "code",
   "execution_count": 12,
   "metadata": {},
   "outputs": [],
   "source": [
    "from pyemd import emd\n",
    "from scipy.stats import wasserstein_distance as wd\n",
    "class ScoreFunctions(object):\n",
    "    def cosine_similarity(u, v):\n",
    "        return u @ v / np.linalg.norm(u) / np.linalg.norm(v)\n",
    "    def l1_dist(u, v):\n",
    "        return -np.linalg.norm((u - v), 1)\n",
    "    def l2_dist(u, v):\n",
    "        return -np.linalg.norm((u - v), 2)\n",
    "    def earth_mover_dist(u, v):\n",
    "        assert u.shape == v.shape, (u.shape, v.shape)\n",
    "        u = (u / np.linalg.norm(u, 2)).astype(np.float64)\n",
    "        v = (v / np.linalg.norm(v, 2)).astype(np.float64)\n",
    "        dist_matrix = np.fromfunction(lambda i, j: abs(i-j), (len(u), len(u)), dtype=np.float64)\n",
    "        return -emd(u, v, dist_matrix)\n",
    "    def scipy_emd(u, v):\n",
    "        return -wd(u, v)\n",
    "    def chi_square(u, v):\n",
    "        return -cv2.compareHist(u, v, cv2.HISTCMP_CHISQR_ALT)\n",
    "    def intersect(u, v):\n",
    "        return cv2.compareHist(u, v, cv2.HISTCMP_INTERSECT)"
   ]
  },
  {
   "cell_type": "code",
   "execution_count": 6,
   "metadata": {},
   "outputs": [],
   "source": [
    "def retrieval(query, func, top=5):\n",
    "    score_list = [func(feat, query) for feat in feature_mat]\n",
    "    score_list = sorted(list(enumerate(score_list)), key=lambda x:x[1], reverse=True)[:top]\n",
    "    index_list = [index for index, score in score_list]\n",
    "    info_list = [id2info[index] for index in index_list]\n",
    "    return info_list"
   ]
  },
  {
   "cell_type": "code",
   "execution_count": 7,
   "metadata": {},
   "outputs": [],
   "source": [
    "def retrieval_correct(query, ref):\n",
    "    return (query.category, query.index) == ref"
   ]
  },
  {
   "cell_type": "code",
   "execution_count": 8,
   "metadata": {},
   "outputs": [],
   "source": [
    "def Sat1and5(q, func):\n",
    "    rankings = retrieval(q.feature, func=func)\n",
    "    Sat1 = any([retrieval_correct(q, r) for r in rankings[:1]])\n",
    "    Sat5 = any([retrieval_correct(q, r) for r in rankings[:5]])\n",
    "    return Sat1, Sat5"
   ]
  },
  {
   "cell_type": "code",
   "execution_count": 14,
   "metadata": {},
   "outputs": [
    {
     "name": "stdout",
     "output_type": "stream",
     "text": [
      "Category: dvd_covers\n",
      "S@1: 0.0000 S@5: 0.0050\n",
      "Category: museum_paintings\n",
      "S@1: 0.0165 S@5: 0.0714\n",
      "Category: book_covers\n",
      "S@1: 0.0124 S@5: 0.0223\n",
      "Category: business_cards\n",
      "S@1: 0.0025 S@5: 0.0050\n",
      "Category: video_frames\n",
      "S@1: 0.0025 S@5: 0.0375\n",
      "Category: cd_covers\n",
      "S@1: 0.0000 S@5: 0.0075\n"
     ]
    }
   ],
   "source": [
    "from functools import partial\n",
    "from collections import defaultdict\n",
    "\n",
    "chunksize = 32\n",
    "Sat1s, Sat5s = defaultdict(list), defaultdict(list)\n",
    "with concurrent.futures.ProcessPoolExecutor(max_workers=10) as executor:\n",
    "    for q, (Sat1, Sat5) in zip(query_pics, executor.map(partial(Sat1and5, func=ScoreFunctions.cosine_similarity), query_pics, chunksize=chunksize)):\n",
    "        Sat1s[q.category].append(Sat1)\n",
    "        Sat5s[q.category].append(Sat5)\n",
    "\n",
    "for (c1, sat1), (c2, sat5) in zip(Sat1s.items(), Sat5s.items()):\n",
    "    assert c1 == c2\n",
    "    print('Category:', c1)\n",
    "    print('S@1: %.4f' % (sum(sat1) / len(sat1)), 'S@5: %.4f' % (sum(sat5) / len(sat5)))"
   ]
  }
 ],
 "metadata": {
  "kernelspec": {
   "display_name": "Python 3",
   "language": "python",
   "name": "python3"
  },
  "language_info": {
   "codemirror_mode": {
    "name": "ipython",
    "version": 3
   },
   "file_extension": ".py",
   "mimetype": "text/x-python",
   "name": "python",
   "nbconvert_exporter": "python",
   "pygments_lexer": "ipython3",
   "version": "3.6.7"
  }
 },
 "nbformat": 4,
 "nbformat_minor": 2
}
